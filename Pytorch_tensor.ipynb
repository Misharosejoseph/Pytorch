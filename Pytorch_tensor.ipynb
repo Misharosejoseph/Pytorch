{
  "nbformat": 4,
  "nbformat_minor": 0,
  "metadata": {
    "colab": {
      "provenance": []
    },
    "kernelspec": {
      "name": "python3",
      "display_name": "Python 3"
    },
    "language_info": {
      "name": "python"
    }
  },
  "cells": [
    {
      "cell_type": "code",
      "execution_count": 1,
      "metadata": {
        "colab": {
          "base_uri": "https://localhost:8080/"
        },
        "id": "MxtugrfWd0D0",
        "outputId": "1967643a-516d-41c9-cc3e-f0d91abc17d5"
      },
      "outputs": [
        {
          "output_type": "stream",
          "name": "stdout",
          "text": [
            "Requirement already satisfied: torch in /usr/local/lib/python3.12/dist-packages (2.8.0+cu126)\n",
            "Requirement already satisfied: filelock in /usr/local/lib/python3.12/dist-packages (from torch) (3.19.1)\n",
            "Requirement already satisfied: typing-extensions>=4.10.0 in /usr/local/lib/python3.12/dist-packages (from torch) (4.15.0)\n",
            "Requirement already satisfied: setuptools in /usr/local/lib/python3.12/dist-packages (from torch) (75.2.0)\n",
            "Requirement already satisfied: sympy>=1.13.3 in /usr/local/lib/python3.12/dist-packages (from torch) (1.13.3)\n",
            "Requirement already satisfied: networkx in /usr/local/lib/python3.12/dist-packages (from torch) (3.5)\n",
            "Requirement already satisfied: jinja2 in /usr/local/lib/python3.12/dist-packages (from torch) (3.1.6)\n",
            "Requirement already satisfied: fsspec in /usr/local/lib/python3.12/dist-packages (from torch) (2025.3.0)\n",
            "Requirement already satisfied: nvidia-cuda-nvrtc-cu12==12.6.77 in /usr/local/lib/python3.12/dist-packages (from torch) (12.6.77)\n",
            "Requirement already satisfied: nvidia-cuda-runtime-cu12==12.6.77 in /usr/local/lib/python3.12/dist-packages (from torch) (12.6.77)\n",
            "Requirement already satisfied: nvidia-cuda-cupti-cu12==12.6.80 in /usr/local/lib/python3.12/dist-packages (from torch) (12.6.80)\n",
            "Requirement already satisfied: nvidia-cudnn-cu12==9.10.2.21 in /usr/local/lib/python3.12/dist-packages (from torch) (9.10.2.21)\n",
            "Requirement already satisfied: nvidia-cublas-cu12==12.6.4.1 in /usr/local/lib/python3.12/dist-packages (from torch) (12.6.4.1)\n",
            "Requirement already satisfied: nvidia-cufft-cu12==11.3.0.4 in /usr/local/lib/python3.12/dist-packages (from torch) (11.3.0.4)\n",
            "Requirement already satisfied: nvidia-curand-cu12==10.3.7.77 in /usr/local/lib/python3.12/dist-packages (from torch) (10.3.7.77)\n",
            "Requirement already satisfied: nvidia-cusolver-cu12==11.7.1.2 in /usr/local/lib/python3.12/dist-packages (from torch) (11.7.1.2)\n",
            "Requirement already satisfied: nvidia-cusparse-cu12==12.5.4.2 in /usr/local/lib/python3.12/dist-packages (from torch) (12.5.4.2)\n",
            "Requirement already satisfied: nvidia-cusparselt-cu12==0.7.1 in /usr/local/lib/python3.12/dist-packages (from torch) (0.7.1)\n",
            "Requirement already satisfied: nvidia-nccl-cu12==2.27.3 in /usr/local/lib/python3.12/dist-packages (from torch) (2.27.3)\n",
            "Requirement already satisfied: nvidia-nvtx-cu12==12.6.77 in /usr/local/lib/python3.12/dist-packages (from torch) (12.6.77)\n",
            "Requirement already satisfied: nvidia-nvjitlink-cu12==12.6.85 in /usr/local/lib/python3.12/dist-packages (from torch) (12.6.85)\n",
            "Requirement already satisfied: nvidia-cufile-cu12==1.11.1.6 in /usr/local/lib/python3.12/dist-packages (from torch) (1.11.1.6)\n",
            "Requirement already satisfied: triton==3.4.0 in /usr/local/lib/python3.12/dist-packages (from torch) (3.4.0)\n",
            "Requirement already satisfied: mpmath<1.4,>=1.1.0 in /usr/local/lib/python3.12/dist-packages (from sympy>=1.13.3->torch) (1.3.0)\n",
            "Requirement already satisfied: MarkupSafe>=2.0 in /usr/local/lib/python3.12/dist-packages (from jinja2->torch) (3.0.2)\n"
          ]
        }
      ],
      "source": [
        "pip install torch"
      ]
    },
    {
      "cell_type": "code",
      "source": [
        "import torch\n"
      ],
      "metadata": {
        "id": "4kcDHh99d6pB"
      },
      "execution_count": 2,
      "outputs": []
    },
    {
      "cell_type": "markdown",
      "source": [
        "#create a tensor"
      ],
      "metadata": {
        "id": "x42IviSqeG30"
      }
    },
    {
      "cell_type": "code",
      "source": [
        "t1 =torch.empty(3)\n",
        "t1"
      ],
      "metadata": {
        "colab": {
          "base_uri": "https://localhost:8080/"
        },
        "id": "k38BpafqeCQL",
        "outputId": "1f5f3534-2b8f-4628-9273-3d1e6422cd55"
      },
      "execution_count": 3,
      "outputs": [
        {
          "output_type": "execute_result",
          "data": {
            "text/plain": [
              "tensor([2.6353e-08, 4.4502e-41, 1.9767e-24])"
            ]
          },
          "metadata": {},
          "execution_count": 3
        }
      ]
    },
    {
      "cell_type": "code",
      "source": [
        "t1.dtype"
      ],
      "metadata": {
        "colab": {
          "base_uri": "https://localhost:8080/"
        },
        "id": "yiGVL93neMpn",
        "outputId": "ab2bcfb9-0634-4a39-cd2d-f989a0fc85b6"
      },
      "execution_count": 4,
      "outputs": [
        {
          "output_type": "execute_result",
          "data": {
            "text/plain": [
              "torch.float32"
            ]
          },
          "metadata": {},
          "execution_count": 4
        }
      ]
    },
    {
      "cell_type": "code",
      "source": [
        "t2=torch.empty(3,dtype=torch.int)\n",
        "t2"
      ],
      "metadata": {
        "colab": {
          "base_uri": "https://localhost:8080/"
        },
        "id": "YwxVuo9IeQHQ",
        "outputId": "00f02068-801a-458e-c2c5-989d3676dc6a"
      },
      "execution_count": 6,
      "outputs": [
        {
          "output_type": "execute_result",
          "data": {
            "text/plain": [
              "tensor([635855024,         0, 765947136], dtype=torch.int32)"
            ]
          },
          "metadata": {},
          "execution_count": 6
        }
      ]
    },
    {
      "cell_type": "code",
      "source": [
        "t3 = torch.rand(5,4,3)\n",
        "t3"
      ],
      "metadata": {
        "colab": {
          "base_uri": "https://localhost:8080/"
        },
        "id": "Cuo9tedoeamw",
        "outputId": "c6e218bd-2793-4eb6-fc37-089f7acb63f0"
      },
      "execution_count": 7,
      "outputs": [
        {
          "output_type": "execute_result",
          "data": {
            "text/plain": [
              "tensor([[[0.3722, 0.2462, 0.7121],\n",
              "         [0.7020, 0.2523, 0.5559],\n",
              "         [0.1530, 0.7764, 0.6078],\n",
              "         [0.7947, 0.9241, 0.2938]],\n",
              "\n",
              "        [[0.8051, 0.2908, 0.9918],\n",
              "         [0.2038, 0.1554, 0.7048],\n",
              "         [0.8546, 0.6589, 0.3954],\n",
              "         [0.9910, 0.5199, 0.6012]],\n",
              "\n",
              "        [[0.6818, 0.4963, 0.2446],\n",
              "         [0.6391, 0.9004, 0.8728],\n",
              "         [0.7451, 0.5257, 0.5078],\n",
              "         [0.6592, 0.8570, 0.7940]],\n",
              "\n",
              "        [[0.8158, 0.4800, 0.5471],\n",
              "         [0.9045, 0.2509, 0.0134],\n",
              "         [0.5928, 0.7705, 0.0928],\n",
              "         [0.5337, 0.9946, 0.4888]],\n",
              "\n",
              "        [[0.0272, 0.4413, 0.4214],\n",
              "         [0.7176, 0.1270, 0.2332],\n",
              "         [0.2518, 0.6885, 0.5146],\n",
              "         [0.7492, 0.6390, 0.7523]]])"
            ]
          },
          "metadata": {},
          "execution_count": 7
        }
      ]
    },
    {
      "cell_type": "code",
      "source": [
        "t3.dtype"
      ],
      "metadata": {
        "colab": {
          "base_uri": "https://localhost:8080/"
        },
        "id": "Ke3SBLRkel2C",
        "outputId": "47e05664-7c0a-4eb9-a6c5-f79341de7ddd"
      },
      "execution_count": 8,
      "outputs": [
        {
          "output_type": "execute_result",
          "data": {
            "text/plain": [
              "torch.float32"
            ]
          },
          "metadata": {},
          "execution_count": 8
        }
      ]
    },
    {
      "cell_type": "code",
      "source": [
        "t4 =torch.randint(0,20,[5,4])\n",
        "t4"
      ],
      "metadata": {
        "colab": {
          "base_uri": "https://localhost:8080/"
        },
        "id": "6wEF6TQZevWO",
        "outputId": "7823d4c3-eb09-4463-a003-5f9bf97423a6"
      },
      "execution_count": 9,
      "outputs": [
        {
          "output_type": "execute_result",
          "data": {
            "text/plain": [
              "tensor([[12,  8, 11, 12],\n",
              "        [ 8,  4,  3,  9],\n",
              "        [11,  7, 14,  1],\n",
              "        [18, 11, 10,  4],\n",
              "        [ 7, 14, 13,  8]])"
            ]
          },
          "metadata": {},
          "execution_count": 9
        }
      ]
    },
    {
      "cell_type": "code",
      "source": [
        "t5 = torch.zeros(2,3)\n",
        "t5"
      ],
      "metadata": {
        "colab": {
          "base_uri": "https://localhost:8080/"
        },
        "id": "k7ueyE6UfBTt",
        "outputId": "bbb5d50c-68b9-461b-ead3-160376505ae9"
      },
      "execution_count": 12,
      "outputs": [
        {
          "output_type": "execute_result",
          "data": {
            "text/plain": [
              "tensor([[0., 0., 0.],\n",
              "        [0., 0., 0.]])"
            ]
          },
          "metadata": {},
          "execution_count": 12
        }
      ]
    },
    {
      "cell_type": "code",
      "source": [
        "t6=torch.ones([2,3,4],dtype=torch.int)\n",
        "t6"
      ],
      "metadata": {
        "colab": {
          "base_uri": "https://localhost:8080/"
        },
        "id": "7KHW3eOPfQeI",
        "outputId": "56e426da-3b65-4c96-82a7-b1bf45356d43"
      },
      "execution_count": 14,
      "outputs": [
        {
          "output_type": "execute_result",
          "data": {
            "text/plain": [
              "tensor([[[1, 1, 1, 1],\n",
              "         [1, 1, 1, 1],\n",
              "         [1, 1, 1, 1]],\n",
              "\n",
              "        [[1, 1, 1, 1],\n",
              "         [1, 1, 1, 1],\n",
              "         [1, 1, 1, 1]]], dtype=torch.int32)"
            ]
          },
          "metadata": {},
          "execution_count": 14
        }
      ]
    },
    {
      "cell_type": "code",
      "source": [
        "t6.size()"
      ],
      "metadata": {
        "colab": {
          "base_uri": "https://localhost:8080/"
        },
        "id": "1tvLHjsKfcre",
        "outputId": "fb3dccb9-5d59-4db3-fb9e-f9258556175b"
      },
      "execution_count": 16,
      "outputs": [
        {
          "output_type": "execute_result",
          "data": {
            "text/plain": [
              "torch.Size([2, 3, 4])"
            ]
          },
          "metadata": {},
          "execution_count": 16
        }
      ]
    },
    {
      "cell_type": "code",
      "source": [
        "t6.dim()"
      ],
      "metadata": {
        "colab": {
          "base_uri": "https://localhost:8080/"
        },
        "id": "iyHx0N9Bfs77",
        "outputId": "910de12a-475d-4a76-9216-0f689c29fd59"
      },
      "execution_count": 17,
      "outputs": [
        {
          "output_type": "execute_result",
          "data": {
            "text/plain": [
              "3"
            ]
          },
          "metadata": {},
          "execution_count": 17
        }
      ]
    },
    {
      "cell_type": "code",
      "source": [
        "import numpy as np\n"
      ],
      "metadata": {
        "id": "O1xtHaHFfzH2"
      },
      "execution_count": 18,
      "outputs": []
    },
    {
      "cell_type": "code",
      "source": [
        "arr = np.ones([2,3])\n",
        "arr"
      ],
      "metadata": {
        "colab": {
          "base_uri": "https://localhost:8080/"
        },
        "id": "8BZhDEJHf2wf",
        "outputId": "c3c3203e-0cdd-4fcc-e8f0-f36924a7337c"
      },
      "execution_count": 19,
      "outputs": [
        {
          "output_type": "execute_result",
          "data": {
            "text/plain": [
              "array([[1., 1., 1.],\n",
              "       [1., 1., 1.]])"
            ]
          },
          "metadata": {},
          "execution_count": 19
        }
      ]
    },
    {
      "cell_type": "code",
      "source": [
        "t7 = torch.tensor(arr)\n",
        "t7"
      ],
      "metadata": {
        "colab": {
          "base_uri": "https://localhost:8080/"
        },
        "id": "6z704x5rf8Qz",
        "outputId": "208f17eb-54a6-4ca1-cb39-59355637d127"
      },
      "execution_count": 20,
      "outputs": [
        {
          "output_type": "execute_result",
          "data": {
            "text/plain": [
              "tensor([[1., 1., 1.],\n",
              "        [1., 1., 1.]], dtype=torch.float64)"
            ]
          },
          "metadata": {},
          "execution_count": 20
        }
      ]
    },
    {
      "cell_type": "markdown",
      "source": [
        "Implace operator"
      ],
      "metadata": {
        "id": "bPChmr6vgK6A"
      }
    },
    {
      "cell_type": "code",
      "source": [
        "t8= torch.ones(2,3,dtype=torch.int)\n",
        "t8"
      ],
      "metadata": {
        "colab": {
          "base_uri": "https://localhost:8080/"
        },
        "id": "Mx94K7yQgBuC",
        "outputId": "53cf9c77-9bf2-49fa-9cc4-9678be346733"
      },
      "execution_count": 21,
      "outputs": [
        {
          "output_type": "execute_result",
          "data": {
            "text/plain": [
              "tensor([[1, 1, 1],\n",
              "        [1, 1, 1]], dtype=torch.int32)"
            ]
          },
          "metadata": {},
          "execution_count": 21
        }
      ]
    },
    {
      "cell_type": "code",
      "source": [
        "t9=torch.ones(2,3,dtype=torch.int)\n",
        "t9 =torch.add(t8,t9)\n",
        "t9"
      ],
      "metadata": {
        "colab": {
          "base_uri": "https://localhost:8080/"
        },
        "id": "elygFe03gTcO",
        "outputId": "11b97dcd-5863-41a9-ae14-ce504587d6c0"
      },
      "execution_count": 23,
      "outputs": [
        {
          "output_type": "execute_result",
          "data": {
            "text/plain": [
              "tensor([[2, 2, 2],\n",
              "        [2, 2, 2]], dtype=torch.int32)"
            ]
          },
          "metadata": {},
          "execution_count": 23
        }
      ]
    },
    {
      "cell_type": "code",
      "source": [
        "t9.sub(t8)"
      ],
      "metadata": {
        "colab": {
          "base_uri": "https://localhost:8080/"
        },
        "id": "2oYlRSU9glHn",
        "outputId": "3aa92145-b625-4a1a-da1f-c9ffe456a0a5"
      },
      "execution_count": 24,
      "outputs": [
        {
          "output_type": "execute_result",
          "data": {
            "text/plain": [
              "tensor([[1, 1, 1],\n",
              "        [1, 1, 1]], dtype=torch.int32)"
            ]
          },
          "metadata": {},
          "execution_count": 24
        }
      ]
    },
    {
      "cell_type": "markdown",
      "source": [
        "Reshaping the tensors"
      ],
      "metadata": {
        "id": "vXXJDUUtgwh7"
      }
    },
    {
      "cell_type": "code",
      "source": [
        "t7.size()\n",
        "torch.Size([2,3])"
      ],
      "metadata": {
        "colab": {
          "base_uri": "https://localhost:8080/"
        },
        "id": "BGV786hBgtVh",
        "outputId": "1682044f-eb48-492d-e5af-4fc93950938a"
      },
      "execution_count": 26,
      "outputs": [
        {
          "output_type": "execute_result",
          "data": {
            "text/plain": [
              "torch.Size([2, 3])"
            ]
          },
          "metadata": {},
          "execution_count": 26
        }
      ]
    },
    {
      "cell_type": "code",
      "source": [
        "t7.reshape(3,2)"
      ],
      "metadata": {
        "colab": {
          "base_uri": "https://localhost:8080/"
        },
        "id": "xv9Wt4NSg9P_",
        "outputId": "49d7d7d1-b894-4f70-9ffb-9223dde3ad0c"
      },
      "execution_count": 27,
      "outputs": [
        {
          "output_type": "execute_result",
          "data": {
            "text/plain": [
              "tensor([[1., 1.],\n",
              "        [1., 1.],\n",
              "        [1., 1.]], dtype=torch.float64)"
            ]
          },
          "metadata": {},
          "execution_count": 27
        }
      ]
    },
    {
      "cell_type": "markdown",
      "source": [
        "tensor broadcasting"
      ],
      "metadata": {
        "id": "XcOKXbDdhN-2"
      }
    },
    {
      "cell_type": "code",
      "source": [
        "t7.size()"
      ],
      "metadata": {
        "colab": {
          "base_uri": "https://localhost:8080/"
        },
        "id": "NzzEGde_hHVh",
        "outputId": "0a8d924f-d5b6-416f-bac4-c07777a91e42"
      },
      "execution_count": 29,
      "outputs": [
        {
          "output_type": "execute_result",
          "data": {
            "text/plain": [
              "torch.Size([2, 3])"
            ]
          },
          "metadata": {},
          "execution_count": 29
        }
      ]
    },
    {
      "cell_type": "code",
      "source": [
        "t6.size()"
      ],
      "metadata": {
        "colab": {
          "base_uri": "https://localhost:8080/"
        },
        "id": "Qz3QjWYzhLmr",
        "outputId": "41188f27-f8c4-49c2-9941-ec7824d60540"
      },
      "execution_count": 30,
      "outputs": [
        {
          "output_type": "execute_result",
          "data": {
            "text/plain": [
              "torch.Size([2, 3, 4])"
            ]
          },
          "metadata": {},
          "execution_count": 30
        }
      ]
    },
    {
      "cell_type": "code",
      "source": [
        "t12 =torch.add(t7,t6)"
      ],
      "metadata": {
        "colab": {
          "base_uri": "https://localhost:8080/",
          "height": 158
        },
        "id": "OgQ1o0XBhWzE",
        "outputId": "1cdfe28a-4639-4890-b442-cbdcb552b491"
      },
      "execution_count": 32,
      "outputs": [
        {
          "output_type": "error",
          "ename": "RuntimeError",
          "evalue": "The size of tensor a (3) must match the size of tensor b (4) at non-singleton dimension 2",
          "traceback": [
            "\u001b[0;31m---------------------------------------------------------------------------\u001b[0m",
            "\u001b[0;31mRuntimeError\u001b[0m                              Traceback (most recent call last)",
            "\u001b[0;32m/tmp/ipython-input-589739488.py\u001b[0m in \u001b[0;36m<cell line: 0>\u001b[0;34m()\u001b[0m\n\u001b[0;32m----> 1\u001b[0;31m \u001b[0mt12\u001b[0m \u001b[0;34m=\u001b[0m\u001b[0mtorch\u001b[0m\u001b[0;34m.\u001b[0m\u001b[0madd\u001b[0m\u001b[0;34m(\u001b[0m\u001b[0mt7\u001b[0m\u001b[0;34m,\u001b[0m\u001b[0mt6\u001b[0m\u001b[0;34m)\u001b[0m\u001b[0;34m\u001b[0m\u001b[0;34m\u001b[0m\u001b[0m\n\u001b[0m",
            "\u001b[0;31mRuntimeError\u001b[0m: The size of tensor a (3) must match the size of tensor b (4) at non-singleton dimension 2"
          ]
        }
      ]
    },
    {
      "cell_type": "code",
      "source": [
        "x=torch.empty(5,4,3,1)\n",
        "y=torch.empty(1,3,5)\n",
        "z=torch.add(x,y)\n",
        "z.size()"
      ],
      "metadata": {
        "colab": {
          "base_uri": "https://localhost:8080/"
        },
        "id": "XTP5wQYQhcLb",
        "outputId": "3a55f905-3c9c-4510-ff84-2cbedf0ca543"
      },
      "execution_count": 33,
      "outputs": [
        {
          "output_type": "execute_result",
          "data": {
            "text/plain": [
              "torch.Size([5, 4, 3, 5])"
            ]
          },
          "metadata": {},
          "execution_count": 33
        }
      ]
    },
    {
      "cell_type": "markdown",
      "source": [
        "Vector multiplication"
      ],
      "metadata": {
        "id": "N1ibHZ_3iWHq"
      }
    },
    {
      "cell_type": "code",
      "source": [
        "A =torch.tensor([[10,5,5,6]])\n",
        "B=torch.tensor([[50],[120],[574],[80]]) # Corrected tensor creation\n",
        "C=torch.mul(A,B)\n",
        "C"
      ],
      "metadata": {
        "colab": {
          "base_uri": "https://localhost:8080/"
        },
        "id": "R-LSRfq1iSC1",
        "outputId": "35f5f6d1-ea8d-4332-fc6f-a1cf79e0fc29"
      },
      "execution_count": 37,
      "outputs": [
        {
          "output_type": "execute_result",
          "data": {
            "text/plain": [
              "tensor([[ 500,  250,  250,  300],\n",
              "        [1200,  600,  600,  720],\n",
              "        [5740, 2870, 2870, 3444],\n",
              "        [ 800,  400,  400,  480]])"
            ]
          },
          "metadata": {},
          "execution_count": 37
        }
      ]
    },
    {
      "cell_type": "markdown",
      "source": [
        "Transpose"
      ],
      "metadata": {
        "id": "vgEi_mfRloxb"
      }
    },
    {
      "cell_type": "code",
      "source": [
        "x= torch.randint(0,20,[4,5])\n",
        "x"
      ],
      "metadata": {
        "colab": {
          "base_uri": "https://localhost:8080/"
        },
        "id": "bhHrubG3lOkX",
        "outputId": "4f11e89a-a057-4de7-8819-fe6d85ccf3f3"
      },
      "execution_count": 38,
      "outputs": [
        {
          "output_type": "execute_result",
          "data": {
            "text/plain": [
              "tensor([[12,  7,  6,  4,  8],\n",
              "        [ 7, 14, 16,  1, 16],\n",
              "        [ 7, 15, 10,  1, 13],\n",
              "        [11, 11, 15,  0, 10]])"
            ]
          },
          "metadata": {},
          "execution_count": 38
        }
      ]
    },
    {
      "cell_type": "code",
      "source": [
        "y=torch.transpose(x,0,1)"
      ],
      "metadata": {
        "id": "N5G3Lb16lyYo"
      },
      "execution_count": 39,
      "outputs": []
    },
    {
      "cell_type": "code",
      "source": [
        "x.size()"
      ],
      "metadata": {
        "colab": {
          "base_uri": "https://localhost:8080/"
        },
        "id": "jNAaMvaul8Dw",
        "outputId": "b710c240-e5e2-4802-a2e1-d032b588126c"
      },
      "execution_count": 40,
      "outputs": [
        {
          "output_type": "execute_result",
          "data": {
            "text/plain": [
              "torch.Size([4, 5])"
            ]
          },
          "metadata": {},
          "execution_count": 40
        }
      ]
    },
    {
      "cell_type": "code",
      "source": [
        "y"
      ],
      "metadata": {
        "colab": {
          "base_uri": "https://localhost:8080/"
        },
        "id": "kKwcOOi7l-Pr",
        "outputId": "40896aa4-94f2-426e-bc07-9bf7689de3e5"
      },
      "execution_count": 41,
      "outputs": [
        {
          "output_type": "execute_result",
          "data": {
            "text/plain": [
              "tensor([[12,  7,  7, 11],\n",
              "        [ 7, 14, 15, 11],\n",
              "        [ 6, 16, 10, 15],\n",
              "        [ 4,  1,  1,  0],\n",
              "        [ 8, 16, 13, 10]])"
            ]
          },
          "metadata": {},
          "execution_count": 41
        }
      ]
    },
    {
      "cell_type": "markdown",
      "source": [
        "Indexing and slicing"
      ],
      "metadata": {
        "id": "joKrPx8-mGvX"
      }
    },
    {
      "cell_type": "code",
      "source": [
        "y"
      ],
      "metadata": {
        "colab": {
          "base_uri": "https://localhost:8080/"
        },
        "id": "MAwGz1XdmBVb",
        "outputId": "46253993-1c86-438a-afe0-e2a56bfa46d4"
      },
      "execution_count": 42,
      "outputs": [
        {
          "output_type": "execute_result",
          "data": {
            "text/plain": [
              "tensor([[12,  7,  7, 11],\n",
              "        [ 7, 14, 15, 11],\n",
              "        [ 6, 16, 10, 15],\n",
              "        [ 4,  1,  1,  0],\n",
              "        [ 8, 16, 13, 10]])"
            ]
          },
          "metadata": {},
          "execution_count": 42
        }
      ]
    },
    {
      "cell_type": "code",
      "source": [
        "y[0][0].item()"
      ],
      "metadata": {
        "colab": {
          "base_uri": "https://localhost:8080/"
        },
        "id": "_kQOY94hmJo0",
        "outputId": "8b87a3c0-1b33-446b-ac2c-09a818ceb8b4"
      },
      "execution_count": 43,
      "outputs": [
        {
          "output_type": "execute_result",
          "data": {
            "text/plain": [
              "12"
            ]
          },
          "metadata": {},
          "execution_count": 43
        }
      ]
    },
    {
      "cell_type": "code",
      "source": [
        "t13=torch.rand(5,4,7)\n",
        "t13"
      ],
      "metadata": {
        "colab": {
          "base_uri": "https://localhost:8080/"
        },
        "id": "q5H0pERZma9Y",
        "outputId": "564897a2-89f9-4fab-c1f4-5113e1c0aed0"
      },
      "execution_count": 45,
      "outputs": [
        {
          "output_type": "execute_result",
          "data": {
            "text/plain": [
              "tensor([[[9.7573e-01, 1.6922e-04, 7.1631e-01, 5.4810e-02, 5.9965e-01,\n",
              "          7.9279e-01, 6.4275e-01],\n",
              "         [4.9239e-02, 9.2138e-01, 1.4723e-01, 5.0062e-01, 6.7294e-01,\n",
              "          4.1314e-01, 6.5549e-01],\n",
              "         [9.2957e-02, 9.0033e-01, 3.8712e-01, 9.7015e-01, 5.8916e-01,\n",
              "          8.0574e-01, 8.4667e-01],\n",
              "         [3.5016e-01, 3.3419e-01, 4.9941e-01, 1.4535e-01, 2.5821e-01,\n",
              "          4.7656e-01, 8.0487e-01]],\n",
              "\n",
              "        [[4.7829e-01, 5.5624e-01, 6.7783e-01, 5.2652e-01, 6.3687e-01,\n",
              "          6.4344e-01, 4.3216e-01],\n",
              "         [8.3991e-01, 4.5515e-01, 5.7223e-01, 6.9151e-01, 7.0060e-02,\n",
              "          9.9521e-01, 4.9458e-01],\n",
              "         [6.5013e-01, 2.6417e-01, 1.7963e-01, 3.8839e-01, 7.2911e-01,\n",
              "          9.8984e-01, 1.0909e-01],\n",
              "         [4.2296e-01, 1.1285e-01, 3.5297e-02, 1.6824e-01, 5.1906e-02,\n",
              "          1.5581e-01, 9.4518e-01]],\n",
              "\n",
              "        [[2.7191e-01, 1.5943e-01, 4.4088e-01, 9.2923e-01, 7.8015e-01,\n",
              "          6.8933e-01, 1.1647e-01],\n",
              "         [4.8860e-01, 1.5143e-01, 2.3891e-01, 2.7399e-01, 2.5347e-01,\n",
              "          3.0085e-01, 7.7777e-01],\n",
              "         [1.5883e-01, 5.4187e-01, 8.8534e-01, 3.6914e-01, 3.6772e-01,\n",
              "          3.3629e-01, 2.4563e-01],\n",
              "         [3.3970e-01, 9.5794e-01, 5.8989e-01, 1.8624e-01, 8.6563e-01,\n",
              "          2.5819e-01, 7.1864e-01]],\n",
              "\n",
              "        [[6.7477e-01, 9.3803e-01, 6.4679e-01, 7.4967e-01, 3.7005e-01,\n",
              "          1.8340e-01, 9.6520e-01],\n",
              "         [2.4561e-01, 6.6242e-01, 1.6254e-01, 5.0794e-01, 9.9722e-01,\n",
              "          6.5165e-02, 5.8357e-01],\n",
              "         [5.9855e-01, 1.5259e-01, 6.9846e-01, 6.5819e-01, 1.7413e-02,\n",
              "          5.2741e-01, 1.8400e-01],\n",
              "         [5.1996e-01, 1.0784e-01, 2.9934e-02, 2.4050e-01, 3.4049e-01,\n",
              "          6.5756e-01, 5.9535e-01]],\n",
              "\n",
              "        [[2.5139e-01, 1.0369e-01, 3.7879e-01, 4.2354e-01, 2.6346e-01,\n",
              "          2.9630e-01, 5.6481e-01],\n",
              "         [3.3988e-01, 3.2547e-01, 6.6310e-03, 9.5938e-01, 3.1045e-01,\n",
              "          2.6206e-01, 8.7620e-01],\n",
              "         [7.7745e-01, 2.5459e-01, 4.6020e-01, 9.7770e-01, 5.1664e-01,\n",
              "          2.5166e-01, 1.4416e-01],\n",
              "         [9.3595e-01, 3.0123e-01, 6.9391e-01, 8.6536e-01, 1.3034e-01,\n",
              "          1.5644e-01, 8.8259e-01]]])"
            ]
          },
          "metadata": {},
          "execution_count": 45
        }
      ]
    },
    {
      "cell_type": "code",
      "source": [
        "t13[4]"
      ],
      "metadata": {
        "colab": {
          "base_uri": "https://localhost:8080/"
        },
        "id": "iHVNh_jXmgoU",
        "outputId": "8e86053f-3b2c-4e2d-b368-faae183f3743"
      },
      "execution_count": 46,
      "outputs": [
        {
          "output_type": "execute_result",
          "data": {
            "text/plain": [
              "tensor([[0.2514, 0.1037, 0.3788, 0.4235, 0.2635, 0.2963, 0.5648],\n",
              "        [0.3399, 0.3255, 0.0066, 0.9594, 0.3104, 0.2621, 0.8762],\n",
              "        [0.7775, 0.2546, 0.4602, 0.9777, 0.5166, 0.2517, 0.1442],\n",
              "        [0.9360, 0.3012, 0.6939, 0.8654, 0.1303, 0.1564, 0.8826]])"
            ]
          },
          "metadata": {},
          "execution_count": 46
        }
      ]
    },
    {
      "cell_type": "code",
      "source": [
        "t13[4][3]"
      ],
      "metadata": {
        "colab": {
          "base_uri": "https://localhost:8080/"
        },
        "id": "Iucpimp4mrBy",
        "outputId": "76ec7583-26a1-4858-c917-ff5273697dac"
      },
      "execution_count": 47,
      "outputs": [
        {
          "output_type": "execute_result",
          "data": {
            "text/plain": [
              "tensor([0.9360, 0.3012, 0.6939, 0.8654, 0.1303, 0.1564, 0.8826])"
            ]
          },
          "metadata": {},
          "execution_count": 47
        }
      ]
    },
    {
      "cell_type": "code",
      "source": [
        "t13[1:3]"
      ],
      "metadata": {
        "colab": {
          "base_uri": "https://localhost:8080/"
        },
        "id": "bLc0LFfemwGJ",
        "outputId": "e30dd664-1ab1-4553-e21e-8de934de8b91"
      },
      "execution_count": 48,
      "outputs": [
        {
          "output_type": "execute_result",
          "data": {
            "text/plain": [
              "tensor([[[0.4783, 0.5562, 0.6778, 0.5265, 0.6369, 0.6434, 0.4322],\n",
              "         [0.8399, 0.4551, 0.5722, 0.6915, 0.0701, 0.9952, 0.4946],\n",
              "         [0.6501, 0.2642, 0.1796, 0.3884, 0.7291, 0.9898, 0.1091],\n",
              "         [0.4230, 0.1128, 0.0353, 0.1682, 0.0519, 0.1558, 0.9452]],\n",
              "\n",
              "        [[0.2719, 0.1594, 0.4409, 0.9292, 0.7801, 0.6893, 0.1165],\n",
              "         [0.4886, 0.1514, 0.2389, 0.2740, 0.2535, 0.3008, 0.7778],\n",
              "         [0.1588, 0.5419, 0.8853, 0.3691, 0.3677, 0.3363, 0.2456],\n",
              "         [0.3397, 0.9579, 0.5899, 0.1862, 0.8656, 0.2582, 0.7186]]])"
            ]
          },
          "metadata": {},
          "execution_count": 48
        }
      ]
    },
    {
      "cell_type": "markdown",
      "source": [
        "Reverse indexing"
      ],
      "metadata": {
        "id": "bMl7FzYDm82m"
      }
    },
    {
      "cell_type": "code",
      "source": [
        "t13[::-1]"
      ],
      "metadata": {
        "colab": {
          "base_uri": "https://localhost:8080/",
          "height": 141
        },
        "id": "37kwzlkGm5Ui",
        "outputId": "08ed5eed-1f12-4d7a-a233-ad571a9eb71b"
      },
      "execution_count": 49,
      "outputs": [
        {
          "output_type": "error",
          "ename": "ValueError",
          "evalue": "step must be greater than zero",
          "traceback": [
            "\u001b[0;31m---------------------------------------------------------------------------\u001b[0m",
            "\u001b[0;31mValueError\u001b[0m                                Traceback (most recent call last)",
            "\u001b[0;32m/tmp/ipython-input-295000509.py\u001b[0m in \u001b[0;36m<cell line: 0>\u001b[0;34m()\u001b[0m\n\u001b[0;32m----> 1\u001b[0;31m \u001b[0mt13\u001b[0m\u001b[0;34m[\u001b[0m\u001b[0;34m:\u001b[0m\u001b[0;34m:\u001b[0m\u001b[0;34m-\u001b[0m\u001b[0;36m1\u001b[0m\u001b[0;34m]\u001b[0m\u001b[0;34m\u001b[0m\u001b[0;34m\u001b[0m\u001b[0m\n\u001b[0m",
            "\u001b[0;31mValueError\u001b[0m: step must be greater than zero"
          ]
        }
      ]
    },
    {
      "cell_type": "code",
      "source": [
        "y"
      ],
      "metadata": {
        "colab": {
          "base_uri": "https://localhost:8080/"
        },
        "id": "eMxkjOEonCgZ",
        "outputId": "a6ed5fc7-b728-42d4-9f57-5c88b8fd37c3"
      },
      "execution_count": 50,
      "outputs": [
        {
          "output_type": "execute_result",
          "data": {
            "text/plain": [
              "tensor([[12,  7,  7, 11],\n",
              "        [ 7, 14, 15, 11],\n",
              "        [ 6, 16, 10, 15],\n",
              "        [ 4,  1,  1,  0],\n",
              "        [ 8, 16, 13, 10]])"
            ]
          },
          "metadata": {},
          "execution_count": 50
        }
      ]
    },
    {
      "cell_type": "code",
      "source": [
        "y=torch.flip(y,[0,1])"
      ],
      "metadata": {
        "id": "paFE8gCOnQv1"
      },
      "execution_count": 51,
      "outputs": []
    },
    {
      "cell_type": "code",
      "source": [
        "y"
      ],
      "metadata": {
        "colab": {
          "base_uri": "https://localhost:8080/"
        },
        "id": "b1y9o33Fnbpb",
        "outputId": "3e01ed7b-5cef-4a1e-a246-114daa0d72d7"
      },
      "execution_count": 52,
      "outputs": [
        {
          "output_type": "execute_result",
          "data": {
            "text/plain": [
              "tensor([[10, 13, 16,  8],\n",
              "        [ 0,  1,  1,  4],\n",
              "        [15, 10, 16,  6],\n",
              "        [11, 15, 14,  7],\n",
              "        [11,  7,  7, 12]])"
            ]
          },
          "metadata": {},
          "execution_count": 52
        }
      ]
    },
    {
      "cell_type": "code",
      "source": [],
      "metadata": {
        "id": "H-QL8uGencXd"
      },
      "execution_count": null,
      "outputs": []
    }
  ]
}