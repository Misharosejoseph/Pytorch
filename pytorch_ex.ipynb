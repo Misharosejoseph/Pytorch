{
  "nbformat": 4,
  "nbformat_minor": 0,
  "metadata": {
    "colab": {
      "provenance": [],
      "authorship_tag": "ABX9TyNzkaMq8GaEN02ANsHK8dkl",
      "include_colab_link": true
    },
    "kernelspec": {
      "name": "python3",
      "display_name": "Python 3"
    },
    "language_info": {
      "name": "python"
    }
  },
  "cells": [
    {
      "cell_type": "markdown",
      "metadata": {
        "id": "view-in-github",
        "colab_type": "text"
      },
      "source": [
        "<a href=\"https://colab.research.google.com/github/Misharosejoseph/Pytorch/blob/main/pytorch_ex.ipynb\" target=\"_parent\"><img src=\"https://colab.research.google.com/assets/colab-badge.svg\" alt=\"Open In Colab\"/></a>"
      ]
    },
    {
      "cell_type": "code",
      "execution_count": 1,
      "metadata": {
        "colab": {
          "base_uri": "https://localhost:8080/"
        },
        "id": "bCQgSWOTZ7Vy",
        "outputId": "f83b64fc-0692-4000-c272-0fd364ca3dfe"
      },
      "outputs": [
        {
          "output_type": "stream",
          "name": "stdout",
          "text": [
            "Epoch 100, Loss: 0.0005\n",
            "Epoch 200, Loss: 0.0002\n",
            "Epoch 300, Loss: 0.0001\n",
            "Epoch 400, Loss: 0.0000\n",
            "Epoch 500, Loss: 0.0000\n",
            "Epoch 600, Loss: 0.0000\n",
            "Epoch 700, Loss: 0.0000\n",
            "Epoch 800, Loss: 0.0000\n",
            "Epoch 900, Loss: 0.0000\n",
            "Epoch 1000, Loss: 0.0000\n",
            "Predicted Yield: 22.000240325927734\n"
          ]
        }
      ],
      "source": [
        "import torch\n",
        "import torch.nn as nn\n",
        "import torch.optim as optim\n",
        "\n",
        "# 1. data(Rain, Fertilizer → Yield)\n",
        "\n",
        "X = torch.tensor([[1, 1],\n",
        "                  [2, 3],\n",
        "                  [3, 5],\n",
        "                  [4, 7],\n",
        "                  [5, 9]], dtype=torch.float32)  # Inputs\n",
        "y = torch.tensor([[2], [6], [10], [14], [18]], dtype=torch.float32)  # Output\n",
        "\n",
        "# 2. (Brain)\n",
        "# Input = 2 features (Rain, Fertilizer), Output = 1 (Yield)\n",
        "model = nn.Sequential(\n",
        "    nn.Linear(2, 1)   # Linear regression y = w1*x1 + w2*x2 + b\n",
        ")\n",
        "\n",
        "# 3. Loss function (Error )\n",
        "loss_fn = nn.MSELoss()  # Mean Squared Error\n",
        "\n",
        "# 4. Optimizer (Brain train using)\n",
        "optimizer = optim.SGD(model.parameters(), lr=0.01)\n",
        "\n",
        "# 5. Training loop\n",
        "epochs = 1000\n",
        "for epoch in range(epochs):\n",
        "    # Forward pass: prediction\n",
        "    y_pred = model(X)\n",
        "\n",
        "    # Loss calculate\n",
        "    loss = loss_fn(y_pred, y)\n",
        "\n",
        "    # Gradient reset\n",
        "    optimizer.zero_grad()\n",
        "\n",
        "    # Backpropagation\n",
        "    loss.backward()\n",
        "\n",
        "    # Parameters update\n",
        "    optimizer.step()\n",
        "\n",
        "\n",
        "    if (epoch+1) % 100 == 0:\n",
        "        print(f'Epoch {epoch+1}, Loss: {loss.item():.4f}')\n",
        "\n",
        "# 6. Prediction\n",
        "with torch.no_grad():\n",
        "    test = torch.tensor([[6, 11]], dtype=torch.float32)  # New Rain & Fertilizer\n",
        "    predicted = model(test)\n",
        "    print(\"Predicted Yield:\", predicted.item())\n"
      ]
    }
  ]
}